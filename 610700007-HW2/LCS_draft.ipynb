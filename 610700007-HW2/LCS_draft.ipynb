{
 "cells": [
  {
   "cell_type": "code",
   "execution_count": 87,
   "id": "cb2d90d2-f9ba-485e-a15b-aa0bbb2f1742",
   "metadata": {},
   "outputs": [],
   "source": [
    "import numpy as np\n",
    "\n",
    "X=\"ABCBDAB\"\n",
    "Y=\"BDCABA\"\n",
    "def LCS_LENGTH(X,Y):\n",
    "    m= len(X)\n",
    "    n= len(Y)\n",
    "    c=[[0]*(n+1) for i in range(m+1)]\n",
    "    b=[[None]*(n+1) for i in range(m+1)]\n",
    "    #print(c)\n",
    "    #print()\n",
    "    for i in range(1,m+1):\n",
    "        for j in range(1,n+1):\n",
    "            if X[i-1]==Y[j-1]:\n",
    "                c[i][j]=c[i-1][j-1]+1\n",
    "                #print(f\"*{X[i-1]}\")\n",
    "                b[i][j]=\"`\" # Upper Left\n",
    "            elif c[i-1][j]>=c[i][j-1]:\n",
    "                c[i][j]=c[i-1][j]\n",
    "                b[i][j]=\"^\"\n",
    "            else:\n",
    "                c[i][j]=c[i][j-1]\n",
    "                b[i][j]=\"L\"\n",
    "    return c,b\n"
   ]
  },
  {
   "cell_type": "code",
   "execution_count": 88,
   "id": "4e8be8ce-76af-448e-a82e-bf1e4e7e8c90",
   "metadata": {},
   "outputs": [],
   "source": [
    "X=\"ABCBDAB\"\n",
    "Y=\"BDCABA\"\n",
    "c,b=LCS_LENGTH(X,Y)\n"
   ]
  },
  {
   "cell_type": "code",
   "execution_count": 89,
   "id": "b02d42e7-6e26-400b-a799-cae0bd28257e",
   "metadata": {},
   "outputs": [],
   "source": [
    "#By Using Table b\n",
    "def PRINT_LCS(b,X,i,j):\n",
    "    if i==0 or j==0:\n",
    "        return\n",
    "    if b[i][j]==\"UL\":\n",
    "        PRINT_LCS(b,X,i-1,j-1)\n",
    "        print(X[i-1])\n",
    "    elif b[i][j]==\"U\":\n",
    "        PRINT_LCS(b,X,i-1,j)\n",
    "    else:\n",
    "        PRINT_LCS(b,X,i,j-1)\n"
   ]
  },
  {
   "cell_type": "code",
   "execution_count": 90,
   "id": "cd238c6e-6355-4924-9ff8-8b63dfd71743",
   "metadata": {},
   "outputs": [],
   "source": [
    "#Without \n",
    "def PRINT_LCS(c,X,Y,i,j):\n",
    "    if i==0 or j==0:\n",
    "        return\n",
    "    if X[i-1]==Y[j-1]: #UL\n",
    "        PRINT_LCS(c,X,Y,i-1,j-1)\n",
    "        print(X[i-1])\n",
    "    else:\n",
    "        if c[i-1][j] >= c[i][j-1]:#UP\n",
    "            PRINT_LCS(c,X,Y,i-1,j)   \n",
    "        else:  #Left\n",
    "            PRINT_LCS(c,X,Y,i,j-1)\n",
    "          \n"
   ]
  },
  {
   "cell_type": "code",
   "execution_count": 91,
   "id": "875d56cc-cee5-4b6b-9f10-8ba8ff008b9a",
   "metadata": {},
   "outputs": [
    {
     "name": "stdout",
     "output_type": "stream",
     "text": [
      "[[0, 0, 0, 0, 0, 0, 0], [0, 0, 0, 0, 1, 1, 1], [0, 1, 1, 1, 1, 2, 2], [0, 1, 1, 2, 2, 2, 2], [0, 1, 1, 2, 2, 3, 3], [0, 1, 2, 2, 2, 3, 3], [0, 1, 2, 2, 3, 3, 4], [0, 1, 2, 2, 3, 4, 4]]\n",
      "[[None, None, None, None, None, None, None], [None, '^', '^', '^', '`', 'L', '`'], [None, '`', 'L', 'L', '^', '`', 'L'], [None, '^', '^', '`', 'L', '^', '^'], [None, '`', '^', '^', '^', '`', 'L'], [None, '^', '`', '^', '^', '^', '^'], [None, '^', '^', '^', '`', '^', '`'], [None, '`', '^', '^', '^', '`', '^']]\n"
     ]
    }
   ],
   "source": [
    "print(c)\n",
    "print(b)"
   ]
  },
  {
   "cell_type": "code",
   "execution_count": 92,
   "id": "5e970594-8ccf-431f-a436-8b6fa8b12e1b",
   "metadata": {},
   "outputs": [
    {
     "name": "stdout",
     "output_type": "stream",
     "text": [
      "B\n",
      "C\n",
      "B\n",
      "A\n"
     ]
    }
   ],
   "source": [
    "PRINT_LCS(c,X,Y,len(X),len(Y))"
   ]
  },
  {
   "cell_type": "code",
   "execution_count": 93,
   "id": "07073188-11cd-4f55-b50c-ee15f1b73b42",
   "metadata": {},
   "outputs": [
    {
     "data": {
      "text/plain": [
       "'BDCABA'"
      ]
     },
     "execution_count": 93,
     "metadata": {},
     "output_type": "execute_result"
    }
   ],
   "source": [
    "Y"
   ]
  },
  {
   "cell_type": "code",
   "execution_count": 94,
   "id": "0e9e528e-dfb1-4011-b10c-ebe2720b10e8",
   "metadata": {},
   "outputs": [
    {
     "ename": "IndexError",
     "evalue": "list index out of range",
     "output_type": "error",
     "traceback": [
      "\u001b[1;31m---------------------------------------------------------------------------\u001b[0m",
      "\u001b[1;31mIndexError\u001b[0m                                Traceback (most recent call last)",
      "Cell \u001b[1;32mIn[94], line 1\u001b[0m\n\u001b[1;32m----> 1\u001b[0m \u001b[43mc\u001b[49m\u001b[43m[\u001b[49m\u001b[38;5;241;43m5\u001b[39;49m\u001b[43m]\u001b[49m\u001b[43m[\u001b[49m\u001b[38;5;241;43m8\u001b[39;49m\u001b[43m]\u001b[49m\n",
      "\u001b[1;31mIndexError\u001b[0m: list index out of range"
     ]
    }
   ],
   "source": [
    "c[5][8]"
   ]
  },
  {
   "cell_type": "code",
   "execution_count": 95,
   "id": "cd5fa762-fd51-4dbc-b56f-55bdc4d2b27d",
   "metadata": {},
   "outputs": [
    {
     "data": {
      "text/plain": [
       "[None, '^', '^', '^', '`', '^', '`']"
      ]
     },
     "execution_count": 95,
     "metadata": {},
     "output_type": "execute_result"
    }
   ],
   "source": [
    "b[6]\n"
   ]
  },
  {
   "cell_type": "code",
   "execution_count": 96,
   "id": "40983b13-91a2-40db-96e2-6d23234a9ef2",
   "metadata": {},
   "outputs": [],
   "source": [
    "X= \"10010101\"\n",
    "Y= \"010110110\"\n",
    "c,b=LCS_LENGTH(X,Y)\n"
   ]
  },
  {
   "cell_type": "code",
   "execution_count": 48,
   "id": "d965782a-5d0a-4f58-a522-f9d6ed9883ce",
   "metadata": {},
   "outputs": [
    {
     "data": {
      "text/plain": [
       "'1'"
      ]
     },
     "execution_count": 48,
     "metadata": {},
     "output_type": "execute_result"
    }
   ],
   "source": [
    "X[5]"
   ]
  },
  {
   "cell_type": "code",
   "execution_count": 97,
   "id": "e6082b93-f0de-4d03-88f8-d23960f7cd66",
   "metadata": {},
   "outputs": [
    {
     "name": "stdout",
     "output_type": "stream",
     "text": [
      "\n",
      "[[0 0 0 0 0 0 0 0 0 0]\n",
      " [0 0 1 1 1 1 1 1 1 1]\n",
      " [0 1 1 2 2 2 2 2 2 2]\n",
      " [0 1 1 2 2 2 3 3 3 3]\n",
      " [0 1 2 2 3 3 3 4 4 4]\n",
      " [0 1 2 3 3 3 4 4 4 5]\n",
      " [0 1 2 3 4 4 4 5 5 5]\n",
      " [0 1 2 3 4 4 5 5 5 6]\n",
      " [0 1 2 3 4 5 5 6 6 6]]\n",
      "[[None None None None None None None None None None]\n",
      " [None '^' '`' 'L' '`' '`' 'L' '`' '`' 'L']\n",
      " [None '`' '^' '`' 'L' 'L' '`' 'L' 'L' '`']\n",
      " [None '`' '^' '`' '^' '^' '`' 'L' 'L' '`']\n",
      " [None '^' '`' '^' '`' '`' '^' '`' '`' 'L']\n",
      " [None '`' '^' '`' '^' '^' '`' '^' '^' '`']\n",
      " [None '^' '`' '^' '`' '`' '^' '`' '`' '^']\n",
      " [None '`' '^' '`' '^' '^' '`' '^' '^' '`']\n",
      " [None '^' '`' '^' '`' '`' '^' '`' '`' '^']]\n"
     ]
    }
   ],
   "source": [
    "print()\n",
    "print(np.matrix(LCS_LENGTH(X,Y)[0]))\n",
    "print(np.matrix(LCS_LENGTH(X,Y)[1]))\n"
   ]
  },
  {
   "cell_type": "code",
   "execution_count": 98,
   "id": "5fb88dcb-d55b-4383-8fbe-7f046732cfbf",
   "metadata": {},
   "outputs": [],
   "source": [
    "c_=np.matrix(LCS_LENGTH(X,Y)[0],dtype=object)\n",
    "b_=np.matrix(LCS_LENGTH(X,Y)[1],dtype=object)\n",
    "\n",
    "\n"
   ]
  },
  {
   "cell_type": "code",
   "execution_count": 99,
   "id": "cbdcd072-ae20-41fa-914d-614b8e8822c8",
   "metadata": {},
   "outputs": [],
   "source": [
    "\n",
    "c_[0,1:]=np.matrix(list(Y),dtype=object)\n",
    "c_[1:,0]=np.matrix(list(X)).T\n",
    "\n",
    "b_[0,1:]=np.matrix(list(Y))\n",
    "b_[1:,0]=np.matrix(list(X)).T"
   ]
  },
  {
   "cell_type": "code",
   "execution_count": 100,
   "id": "f0b97bd8-f63d-45af-8e6c-3870af406992",
   "metadata": {},
   "outputs": [
    {
     "name": "stdout",
     "output_type": "stream",
     "text": [
      "[[None '0' '1' '0' '1' '1' '0' '1' '1' '0']\n",
      " ['1' '^' '`' 'L' '`' '`' 'L' '`' '`' 'L']\n",
      " ['0' '`' '^' '`' 'L' 'L' '`' 'L' 'L' '`']\n",
      " ['0' '`' '^' '`' '^' '^' '`' 'L' 'L' '`']\n",
      " ['1' '^' '`' '^' '`' '`' '^' '`' '`' 'L']\n",
      " ['0' '`' '^' '`' '^' '^' '`' '^' '^' '`']\n",
      " ['1' '^' '`' '^' '`' '`' '^' '`' '`' '^']\n",
      " ['0' '`' '^' '`' '^' '^' '`' '^' '^' '`']\n",
      " ['1' '^' '`' '^' '`' '`' '^' '`' '`' '^']]\n",
      "[[0 '0' '1' '0' '1' '1' '0' '1' '1' '0']\n",
      " ['1' 0 1 1 1 1 1 1 1 1]\n",
      " ['0' 1 1 2 2 2 2 2 2 2]\n",
      " ['0' 1 1 2 2 2 3 3 3 3]\n",
      " ['1' 1 2 2 3 3 3 4 4 4]\n",
      " ['0' 1 2 3 3 3 4 4 4 5]\n",
      " ['1' 1 2 3 4 4 4 5 5 5]\n",
      " ['0' 1 2 3 4 4 5 5 5 6]\n",
      " ['1' 1 2 3 4 5 5 6 6 6]]\n"
     ]
    }
   ],
   "source": [
    "print(b_)\n",
    "\n",
    "print(c_)"
   ]
  },
  {
   "cell_type": "code",
   "execution_count": 55,
   "id": "2076f740-cfb4-48dc-94d7-356608589e8b",
   "metadata": {},
   "outputs": [
    {
     "data": {
      "text/plain": [
       "matrix([['B', 'D', 'C', 'A', 'B', 'A']], dtype=object)"
      ]
     },
     "execution_count": 55,
     "metadata": {},
     "output_type": "execute_result"
    }
   ],
   "source": [
    "np.matrix(list(Y),dtype=object) "
   ]
  },
  {
   "cell_type": "code",
   "execution_count": 56,
   "id": "9c6d4681-7ba3-4c33-9750-d430a8575ed6",
   "metadata": {},
   "outputs": [
    {
     "data": {
      "text/plain": [
       "matrix([['B', 'D', 'C', 'A', 'B', 'A']], dtype=object)"
      ]
     },
     "execution_count": 56,
     "metadata": {},
     "output_type": "execute_result"
    }
   ],
   "source": [
    "c[0,1:]\n"
   ]
  },
  {
   "cell_type": "code",
   "execution_count": 57,
   "id": "d3e0117b-3856-4258-bec9-4a5261db0eef",
   "metadata": {},
   "outputs": [
    {
     "data": {
      "text/plain": [
       "matrix([[None, 'B', 'D', 'C', 'A', 'B', 'A'],\n",
       "        ['A', '^', '^', '^', '`', '<', '`'],\n",
       "        ['B', '`', '<', '<', '^', '`', '<'],\n",
       "        ['C', '^', '^', '`', '<', '^', '^'],\n",
       "        ['B', '`', '^', '^', '^', '`', '<'],\n",
       "        ['D', '^', '`', '^', '^', '^', '^'],\n",
       "        ['A', '^', '^', '^', '`', '^', '`'],\n",
       "        ['B', '`', '^', '^', '^', '`', '^']], dtype=object)"
      ]
     },
     "execution_count": 57,
     "metadata": {},
     "output_type": "execute_result"
    }
   ],
   "source": [
    "c\n",
    "b"
   ]
  },
  {
   "cell_type": "code",
   "execution_count": 58,
   "id": "d575047e-4d63-4750-8550-39814eb1a5af",
   "metadata": {},
   "outputs": [
    {
     "name": "stdout",
     "output_type": "stream",
     "text": [
      "[[0 'B' 'D' 'C' 'A' 'B' 'A']\n",
      " ['A' 0 0 0 1 1 1]\n",
      " ['B' 1 1 1 1 2 2]\n",
      " ['C' 1 1 2 2 2 2]\n",
      " ['B' 1 1 2 2 3 3]\n",
      " ['D' 1 2 2 2 3 3]\n",
      " ['A' 1 2 2 3 3 4]\n",
      " ['B' 1 2 2 3 4 4]]\n",
      "[[None 'B' 'D' 'C' 'A' 'B' 'A']\n",
      " ['A' '^' '^' '^' '`' '<' '`']\n",
      " ['B' '`' '<' '<' '^' '`' '<']\n",
      " ['C' '^' '^' '`' '<' '^' '^']\n",
      " ['B' '`' '^' '^' '^' '`' '<']\n",
      " ['D' '^' '`' '^' '^' '^' '^']\n",
      " ['A' '^' '^' '^' '`' '^' '`']\n",
      " ['B' '`' '^' '^' '^' '`' '^']]\n"
     ]
    }
   ],
   "source": [
    "print(c)\n",
    "print(b)"
   ]
  },
  {
   "cell_type": "code",
   "execution_count": 102,
   "id": "b587ee9c-2de2-4dc8-b1cf-71a3cb64c7e8",
   "metadata": {},
   "outputs": [
    {
     "name": "stdout",
     "output_type": "stream",
     "text": [
      "1\n",
      "0\n",
      "0\n",
      "1\n",
      "1\n",
      "0\n"
     ]
    }
   ],
   "source": [
    "PRINT_LCS(c,X,Y,len(X),len(Y))"
   ]
  },
  {
   "cell_type": "code",
   "execution_count": 85,
   "id": "abc0dcd7-f403-426d-ba0b-b50056f7fa3f",
   "metadata": {},
   "outputs": [],
   "source": [
    "X= \"10010101\"\n",
    "Y= \"010110110\"\n",
    "c,b=LCS_LENGTH(X,Y)\n"
   ]
  },
  {
   "cell_type": "code",
   "execution_count": 13,
   "id": "9561466b-9eab-4cc5-bcfc-37672961facd",
   "metadata": {},
   "outputs": [],
   "source": [
    "def PRINT_ALL_LCS(c,X,i,j):\n",
    "    print(f\"i,j:{i},{j}\")\n",
    "    if i==0 or j==0:\n",
    "        return set([\"\"])\n",
    "\n",
    "    if c[i][j] == c[i][j-1] or c[i][j]==c[i-1][j]:\n",
    "        if c[i][j] == c[i-1][j]:#UP \n",
    "            U.update(PRINT_ALL_LCS(c,X,i-1,j))\n",
    "    \n",
    "        if c[i][j]==c[i][j-1]:#Left\n",
    "            U.update(PRINT_ALL_LCS(c,X,i,j-1))\n",
    "        return U\n",
    "    else:#UL\n",
    "        return set([Z+X[i-1] for Z in PRINT_ALL_LCS(c,X,i-1,j-1)])\n",
    "        "
   ]
  },
  {
   "cell_type": "code",
   "execution_count": 114,
   "id": "60d6af28-c989-450a-b097-7014d6789a58",
   "metadata": {},
   "outputs": [],
   "source": [
    "def PRINT_ALL_LCS(c,X,Y,i,j):\n",
    "    if i==0 or j==0:\n",
    "        return set([\"\"])\n",
    "    if X[i-1]==Y[j-1]: #UL\n",
    "        return set([Z+X[i-1] for Z in PRINT_ALL_LCS(c,X,Y,i-1,j-1)])\n",
    "    else:\n",
    "        U=set()\n",
    "\n",
    "        if c[i-1][j] >= c[i][j-1]:#UP\n",
    "            U.update(PRINT_ALL_LCS(c,X,Y,i-1,j))\n",
    "        if c[i][j-1] >= c[i-1][j]:  #Left\n",
    "            U.update(PRINT_ALL_LCS(c,X,Y,i,j-1))\n",
    "        return U          \n"
   ]
  },
  {
   "cell_type": "code",
   "execution_count": 115,
   "id": "24ac6c22-2e52-4c30-874e-d5ab0eb17ecb",
   "metadata": {},
   "outputs": [],
   "source": [
    "x=PRINT_ALL_LCS(c,X,Y,len(X),len(Y))"
   ]
  },
  {
   "cell_type": "code",
   "execution_count": 116,
   "id": "d2ffd976-49a7-403f-8425-1c984b959e8e",
   "metadata": {},
   "outputs": [
    {
     "data": {
      "text/plain": [
       "{'001010',\n",
       " '001011',\n",
       " '001101',\n",
       " '010101',\n",
       " '100110',\n",
       " '101010',\n",
       " '101011',\n",
       " '101101'}"
      ]
     },
     "execution_count": 116,
     "metadata": {},
     "output_type": "execute_result"
    }
   ],
   "source": [
    "x"
   ]
  },
  {
   "cell_type": "code",
   "execution_count": 107,
   "id": "ec320859-b8c2-4e46-ba71-23cd2c25c478",
   "metadata": {},
   "outputs": [
    {
     "data": {
      "text/plain": [
       "9"
      ]
     },
     "execution_count": 107,
     "metadata": {},
     "output_type": "execute_result"
    }
   ],
   "source": [
    "len(Y)"
   ]
  },
  {
   "cell_type": "code",
   "execution_count": 18,
   "id": "38be9d22-0854-4f12-ae8f-5b836495102d",
   "metadata": {},
   "outputs": [
    {
     "name": "stdout",
     "output_type": "stream",
     "text": [
      "1\n",
      "0\n",
      "1\n",
      "0\n",
      "1\n",
      "0\n"
     ]
    }
   ],
   "source": [
    "PRINT_LCS(c,X,len(X),len(Y))"
   ]
  },
  {
   "cell_type": "code",
   "execution_count": 58,
   "id": "394332ef-d2bb-4483-a4a0-dde0f0aa694f",
   "metadata": {},
   "outputs": [
    {
     "data": {
      "text/plain": [
       "{'001010',\n",
       " '001011',\n",
       " '001101',\n",
       " '010101',\n",
       " '100110',\n",
       " '101010',\n",
       " '101011',\n",
       " '101101'}"
      ]
     },
     "execution_count": 58,
     "metadata": {},
     "output_type": "execute_result"
    }
   ],
   "source": [
    "def backTrackAll(C, X, Y, i, j):\n",
    "    if i == 0 or j == 0:\n",
    "        return set([\"\"])\n",
    "    elif X[i-1] == Y[j-1]:\n",
    "        return set([Z + X[i-1] for Z in backTrackAll(C, X, Y, i-1, j-1)])\n",
    "    else:\n",
    "        R = set()\n",
    "        if C[i][j-1] >= C[i-1][j]:\n",
    "            R.update(backTrackAll(C, X, Y, i, j-1))\n",
    "        if C[i-1][j] >= C[i][j-1]:\n",
    "            R.update(backTrackAll(C, X, Y, i-1, j))\n",
    "        return R\n",
    "backTrackAll(c,X,Y,len(X),len(Y)) "
   ]
  },
  {
   "cell_type": "code",
   "execution_count": null,
   "id": "76348844-e115-4002-ba95-aed29a36282f",
   "metadata": {},
   "outputs": [],
   "source": []
  }
 ],
 "metadata": {
  "kernelspec": {
   "display_name": "Python 3 (ipykernel)",
   "language": "python",
   "name": "python3"
  },
  "language_info": {
   "codemirror_mode": {
    "name": "ipython",
    "version": 3
   },
   "file_extension": ".py",
   "mimetype": "text/x-python",
   "name": "python",
   "nbconvert_exporter": "python",
   "pygments_lexer": "ipython3",
   "version": "3.11.5"
  }
 },
 "nbformat": 4,
 "nbformat_minor": 5
}
