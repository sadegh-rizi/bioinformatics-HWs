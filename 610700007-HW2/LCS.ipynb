{
 "cells": [
  {
   "cell_type": "code",
   "execution_count": 40,
   "id": "cb2d90d2-f9ba-485e-a15b-aa0bbb2f1742",
   "metadata": {},
   "outputs": [],
   "source": [
    "\n",
    "def LCS_LENGTH(X,Y):\n",
    "    m= len(X)\n",
    "    n= len(Y)\n",
    "    c=[[0]*(n+1) for i in range(m+1)]\n",
    "    b=[[None]*(n+1) for i in range(m+1)]\n",
    "\n",
    "    for i in range(1,m+1):\n",
    "        for j in range(1,n+1):\n",
    "            if X[i-1]==Y[j-1]:\n",
    "                c[i][j]=c[i-1][j-1]+1\n",
    "                #print(f\"*{X[i-1]}\")\n",
    "                b[i][j]=\"`\" # Upper Left\n",
    "            elif c[i-1][j]>=c[i][j-1]:\n",
    "                c[i][j]=c[i-1][j]\n",
    "                b[i][j]=\"^\"\n",
    "            else:\n",
    "                c[i][j]=c[i][j-1]\n",
    "                b[i][j]=\"<\"\n",
    "    return c,b\n"
   ]
  },
  {
   "cell_type": "code",
   "execution_count": 41,
   "id": "4e8be8ce-76af-448e-a82e-bf1e4e7e8c90",
   "metadata": {},
   "outputs": [
    {
     "name": "stdout",
     "output_type": "stream",
     "text": [
      "b matrix:\n",
      "[[None 'B' 'D' 'C' 'A' 'B' 'A']\n",
      " ['A' '^' '^' '^' '`' '<' '`']\n",
      " ['B' '`' '<' '<' '^' '`' '<']\n",
      " ['C' '^' '^' '`' '<' '^' '^']\n",
      " ['B' '`' '^' '^' '^' '`' '<']\n",
      " ['D' '^' '`' '^' '^' '^' '^']\n",
      " ['A' '^' '^' '^' '`' '^' '`']\n",
      " ['B' '`' '^' '^' '^' '`' '^']]\n",
      "c matrix:\n",
      "[[0 'B' 'D' 'C' 'A' 'B' 'A']\n",
      " ['A' 0 0 0 1 1 1]\n",
      " ['B' 1 1 1 1 2 2]\n",
      " ['C' 1 1 2 2 2 2]\n",
      " ['B' 1 1 2 2 3 3]\n",
      " ['D' 1 2 2 2 3 3]\n",
      " ['A' 1 2 2 3 3 4]\n",
      " ['B' 1 2 2 3 4 4]]\n"
     ]
    }
   ],
   "source": [
    "import numpy as np\n",
    "X=\"ABCBDAB\"\n",
    "Y=\"BDCABA\"\n",
    "c,b=LCS_LENGTH(X,Y)\n",
    "c_for_print=np.matrix(LCS_LENGTH(X,Y)[0],dtype=object)\n",
    "b_for_print=np.matrix(LCS_LENGTH(X,Y)[1],dtype=object)\n",
    "\n",
    "c_for_print[0,1:]=np.matrix(list(Y),dtype=object)\n",
    "c_for_print[1:,0]=np.matrix(list(X)).T\n",
    "\n",
    "b_for_print[0,1:]=np.matrix(list(Y))\n",
    "b_for_print[1:,0]=np.matrix(list(X)).T\n",
    "print(f\"b matrix:\\n{b_for_print}\")\n",
    "print(f\"c matrix:\\n{c_for_print}\")"
   ]
  },
  {
   "cell_type": "code",
   "execution_count": 42,
   "id": "b02d42e7-6e26-400b-a799-cae0bd28257e",
   "metadata": {},
   "outputs": [],
   "source": [
    "#By using b table\n",
    "def PRINT_LCS(b,X,i,j):\n",
    "    if i==0 or j==0:\n",
    "        return\n",
    "    if b[i][j]==\"UL\":\n",
    "        PRINT_LCS(b,X,i-1,j-1)\n",
    "        print(X[i-1])\n",
    "    elif b[i][j]==\"U\":\n",
    "        PRINT_LCS(b,X,i-1,j)\n",
    "    else:\n",
    "        PRINT_LCS(b,X,i,j-1)\n"
   ]
  },
  {
   "cell_type": "code",
   "execution_count": 43,
   "id": "baa2be77-998d-4628-848d-48bb64e2d962",
   "metadata": {},
   "outputs": [],
   "source": [
    "#Without using b Table\n",
    "def PRINT_LCS(c,X,Y,i,j):\n",
    "    if i==0 or j==0:\n",
    "        return\n",
    "    if X[i-1]==Y[j-1]: #UL\n",
    "        PRINT_LCS(c,X,Y,i-1,j-1)\n",
    "        print(X[i-1])\n",
    "    else:\n",
    "        if c[i-1][j] >= c[i][j-1]:#UP\n",
    "            PRINT_LCS(c,X,Y,i-1,j)   \n",
    "        else:  #Left\n",
    "            PRINT_LCS(c,X,Y,i,j-1)\n",
    "          \n"
   ]
  },
  {
   "cell_type": "code",
   "execution_count": 44,
   "id": "abc0dcd7-f403-426d-ba0b-b50056f7fa3f",
   "metadata": {},
   "outputs": [],
   "source": [
    "X= \"10010101\"\n",
    "Y= \"010110110\"\n",
    "c,b=LCS_LENGTH(X,Y)\n"
   ]
  },
  {
   "cell_type": "code",
   "execution_count": 45,
   "id": "60d6af28-c989-450a-b097-7014d6789a58",
   "metadata": {},
   "outputs": [],
   "source": [
    "def PRINT_ALL_LCS(c,X,Y,i,j):\n",
    "    if i==0 or j==0:\n",
    "        return set([\"\"])\n",
    "    if X[i-1]==Y[j-1]: #UL\n",
    "        return set([Z+X[i-1] for Z in PRINT_ALL_LCS(c,X,Y,i-1,j-1)])\n",
    "    else:\n",
    "        U=set()\n",
    "\n",
    "        if c[i-1][j] >= c[i][j-1]:#UP\n",
    "            U.update(PRINT_ALL_LCS(c,X,Y,i-1,j))\n",
    "        if c[i][j-1] >= c[i-1][j]:  #Left\n",
    "            U.update(PRINT_ALL_LCS(c,X,Y,i,j-1))\n",
    "        return U          \n"
   ]
  },
  {
   "cell_type": "code",
   "execution_count": 46,
   "id": "24ac6c22-2e52-4c30-874e-d5ab0eb17ecb",
   "metadata": {},
   "outputs": [
    {
     "name": "stdout",
     "output_type": "stream",
     "text": [
      "{'001010', '101011', '001101', '101010', '001011', '100110', '010101', '101101'}\n"
     ]
    }
   ],
   "source": [
    "x=PRINT_ALL_LCS(c,X,Y,len(X),len(Y))\n",
    "print(x)"
   ]
  },
  {
   "cell_type": "code",
   "execution_count": 47,
   "id": "d2ffd976-49a7-403f-8425-1c984b959e8e",
   "metadata": {},
   "outputs": [
    {
     "name": "stdout",
     "output_type": "stream",
     "text": [
      "LCS length: 6\n",
      "number of LCS: 8\n",
      "Printing all LCS\n",
      "001010\n",
      "101011\n",
      "001101\n",
      "101010\n",
      "001011\n",
      "100110\n",
      "010101\n",
      "101101\n"
     ]
    }
   ],
   "source": [
    "\n",
    "X= \"10010101\"\n",
    "Y= \"010110110\"\n",
    "# X=input(\"Input first string\")\n",
    "# Y=input(\"Input second string\")\n",
    "c=LCS_LENGTH(X,Y)[0]\n",
    "LCS_list=PRINT_ALL_LCS(c,X,Y,len(X),len(Y))\n",
    "print(f\"LCS length: {c[len(X)][len(Y)]}\")\n",
    "print(f\"number of LCS: {len(LCS_list)}\")\n",
    "print(\"Printing all LCS\")\n",
    "print(\"\\n\".join(LCS_list))"
   ]
  },
  {
   "cell_type": "code",
   "execution_count": null,
   "id": "68386667-470e-4fe1-85b4-bb8ba27b811e",
   "metadata": {},
   "outputs": [],
   "source": []
  }
 ],
 "metadata": {
  "kernelspec": {
   "display_name": "Python 3 (ipykernel)",
   "language": "python",
   "name": "python3"
  },
  "language_info": {
   "codemirror_mode": {
    "name": "ipython",
    "version": 3
   },
   "file_extension": ".py",
   "mimetype": "text/x-python",
   "name": "python",
   "nbconvert_exporter": "python",
   "pygments_lexer": "ipython3",
   "version": "3.11.5"
  }
 },
 "nbformat": 4,
 "nbformat_minor": 5
}
